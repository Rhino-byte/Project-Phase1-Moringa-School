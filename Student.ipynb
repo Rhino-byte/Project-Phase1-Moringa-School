{
 "cells": [
  {
   "cell_type": "markdown",
   "metadata": {},
   "source": [
    "# Final Project Submission\n",
    "\n",
    "Please fill out:\n",
    "* Student name: Savins Nanyaemuny\n",
    "* Student pace: Full time\n",
    "* Instructor name: Maryann Mwikali"
   ]
  },
  {
   "cell_type": "code",
   "execution_count": 1,
   "metadata": {},
   "outputs": [],
   "source": [
    "# Import the neccesary modules\n",
    "import pandas as pd\n",
    "import numpy as np\n",
    "import seaborn as sns\n",
    "import matplotlib.pyplot as plt\n",
    "%matplotlib inline\n"
   ]
  },
  {
   "cell_type": "markdown",
   "metadata": {},
   "source": [
    "## Being one with the data👨🏿‍🍳\n",
    "Understanding the data plays a crucial role in any analysis.This project will use the Aviation data from kaggle dataset. For the Aviation data we will investigate various factors to get an idea of the business understanding:\n",
    "* Getting the dimension of the data\n",
    "* Understand the various variables in our data\n",
    "* Data Cleaning\n",
    "  > Check for missing data\n",
    "\n",
    "  > Check for duplicates\n",
    "\n",
    "  > Format columns\n",
    "\n",
    "  > Drop columns\n",
    "* Data Visualization and Explanatory analysis\n",
    "  > Explore the various variables by using visuals and try to communicate\n",
    "  \n",
    "  > Check for normality,outliers,spread,measure of tendency in the numeric variable \n",
    "\n",
    "\n"
   ]
  },
  {
   "cell_type": "code",
   "execution_count": 2,
   "metadata": {},
   "outputs": [
    {
     "name": "stderr",
     "output_type": "stream",
     "text": [
      "c:\\Users\\savin\\anaconda3\\envs\\learn-env\\lib\\site-packages\\IPython\\core\\interactiveshell.py:3145: DtypeWarning: Columns (6,7,28) have mixed types.Specify dtype option on import or set low_memory=False.\n",
      "  has_raised = await self.run_ast_nodes(code_ast.body, cell_name,\n"
     ]
    },
    {
     "data": {
      "text/html": [
       "<div>\n",
       "<style scoped>\n",
       "    .dataframe tbody tr th:only-of-type {\n",
       "        vertical-align: middle;\n",
       "    }\n",
       "\n",
       "    .dataframe tbody tr th {\n",
       "        vertical-align: top;\n",
       "    }\n",
       "\n",
       "    .dataframe thead th {\n",
       "        text-align: right;\n",
       "    }\n",
       "</style>\n",
       "<table border=\"1\" class=\"dataframe\">\n",
       "  <thead>\n",
       "    <tr style=\"text-align: right;\">\n",
       "      <th></th>\n",
       "      <th>Event.Id</th>\n",
       "      <th>Investigation.Type</th>\n",
       "      <th>Accident.Number</th>\n",
       "      <th>Event.Date</th>\n",
       "      <th>Location</th>\n",
       "      <th>Country</th>\n",
       "      <th>Latitude</th>\n",
       "      <th>Longitude</th>\n",
       "      <th>Airport.Code</th>\n",
       "      <th>Airport.Name</th>\n",
       "      <th>...</th>\n",
       "      <th>Purpose.of.flight</th>\n",
       "      <th>Air.carrier</th>\n",
       "      <th>Total.Fatal.Injuries</th>\n",
       "      <th>Total.Serious.Injuries</th>\n",
       "      <th>Total.Minor.Injuries</th>\n",
       "      <th>Total.Uninjured</th>\n",
       "      <th>Weather.Condition</th>\n",
       "      <th>Broad.phase.of.flight</th>\n",
       "      <th>Report.Status</th>\n",
       "      <th>Publication.Date</th>\n",
       "    </tr>\n",
       "  </thead>\n",
       "  <tbody>\n",
       "    <tr>\n",
       "      <th>0</th>\n",
       "      <td>20001218X45444</td>\n",
       "      <td>Accident</td>\n",
       "      <td>SEA87LA080</td>\n",
       "      <td>1948-10-24</td>\n",
       "      <td>MOOSE CREEK, ID</td>\n",
       "      <td>United States</td>\n",
       "      <td>NaN</td>\n",
       "      <td>NaN</td>\n",
       "      <td>NaN</td>\n",
       "      <td>NaN</td>\n",
       "      <td>...</td>\n",
       "      <td>Personal</td>\n",
       "      <td>NaN</td>\n",
       "      <td>2.0</td>\n",
       "      <td>0.0</td>\n",
       "      <td>0.0</td>\n",
       "      <td>0.0</td>\n",
       "      <td>UNK</td>\n",
       "      <td>Cruise</td>\n",
       "      <td>Probable Cause</td>\n",
       "      <td>NaN</td>\n",
       "    </tr>\n",
       "    <tr>\n",
       "      <th>1</th>\n",
       "      <td>20001218X45447</td>\n",
       "      <td>Accident</td>\n",
       "      <td>LAX94LA336</td>\n",
       "      <td>1962-07-19</td>\n",
       "      <td>BRIDGEPORT, CA</td>\n",
       "      <td>United States</td>\n",
       "      <td>NaN</td>\n",
       "      <td>NaN</td>\n",
       "      <td>NaN</td>\n",
       "      <td>NaN</td>\n",
       "      <td>...</td>\n",
       "      <td>Personal</td>\n",
       "      <td>NaN</td>\n",
       "      <td>4.0</td>\n",
       "      <td>0.0</td>\n",
       "      <td>0.0</td>\n",
       "      <td>0.0</td>\n",
       "      <td>UNK</td>\n",
       "      <td>Unknown</td>\n",
       "      <td>Probable Cause</td>\n",
       "      <td>19-09-1996</td>\n",
       "    </tr>\n",
       "    <tr>\n",
       "      <th>2</th>\n",
       "      <td>20061025X01555</td>\n",
       "      <td>Accident</td>\n",
       "      <td>NYC07LA005</td>\n",
       "      <td>1974-08-30</td>\n",
       "      <td>Saltville, VA</td>\n",
       "      <td>United States</td>\n",
       "      <td>36.9222</td>\n",
       "      <td>-81.8781</td>\n",
       "      <td>NaN</td>\n",
       "      <td>NaN</td>\n",
       "      <td>...</td>\n",
       "      <td>Personal</td>\n",
       "      <td>NaN</td>\n",
       "      <td>3.0</td>\n",
       "      <td>NaN</td>\n",
       "      <td>NaN</td>\n",
       "      <td>NaN</td>\n",
       "      <td>IMC</td>\n",
       "      <td>Cruise</td>\n",
       "      <td>Probable Cause</td>\n",
       "      <td>26-02-2007</td>\n",
       "    </tr>\n",
       "    <tr>\n",
       "      <th>3</th>\n",
       "      <td>20001218X45448</td>\n",
       "      <td>Accident</td>\n",
       "      <td>LAX96LA321</td>\n",
       "      <td>1977-06-19</td>\n",
       "      <td>EUREKA, CA</td>\n",
       "      <td>United States</td>\n",
       "      <td>NaN</td>\n",
       "      <td>NaN</td>\n",
       "      <td>NaN</td>\n",
       "      <td>NaN</td>\n",
       "      <td>...</td>\n",
       "      <td>Personal</td>\n",
       "      <td>NaN</td>\n",
       "      <td>2.0</td>\n",
       "      <td>0.0</td>\n",
       "      <td>0.0</td>\n",
       "      <td>0.0</td>\n",
       "      <td>IMC</td>\n",
       "      <td>Cruise</td>\n",
       "      <td>Probable Cause</td>\n",
       "      <td>12-09-2000</td>\n",
       "    </tr>\n",
       "    <tr>\n",
       "      <th>4</th>\n",
       "      <td>20041105X01764</td>\n",
       "      <td>Accident</td>\n",
       "      <td>CHI79FA064</td>\n",
       "      <td>1979-08-02</td>\n",
       "      <td>Canton, OH</td>\n",
       "      <td>United States</td>\n",
       "      <td>NaN</td>\n",
       "      <td>NaN</td>\n",
       "      <td>NaN</td>\n",
       "      <td>NaN</td>\n",
       "      <td>...</td>\n",
       "      <td>Personal</td>\n",
       "      <td>NaN</td>\n",
       "      <td>1.0</td>\n",
       "      <td>2.0</td>\n",
       "      <td>NaN</td>\n",
       "      <td>0.0</td>\n",
       "      <td>VMC</td>\n",
       "      <td>Approach</td>\n",
       "      <td>Probable Cause</td>\n",
       "      <td>16-04-1980</td>\n",
       "    </tr>\n",
       "  </tbody>\n",
       "</table>\n",
       "<p>5 rows × 31 columns</p>\n",
       "</div>"
      ],
      "text/plain": [
       "         Event.Id Investigation.Type Accident.Number  Event.Date  \\\n",
       "0  20001218X45444           Accident      SEA87LA080  1948-10-24   \n",
       "1  20001218X45447           Accident      LAX94LA336  1962-07-19   \n",
       "2  20061025X01555           Accident      NYC07LA005  1974-08-30   \n",
       "3  20001218X45448           Accident      LAX96LA321  1977-06-19   \n",
       "4  20041105X01764           Accident      CHI79FA064  1979-08-02   \n",
       "\n",
       "          Location        Country Latitude Longitude Airport.Code  \\\n",
       "0  MOOSE CREEK, ID  United States      NaN       NaN          NaN   \n",
       "1   BRIDGEPORT, CA  United States      NaN       NaN          NaN   \n",
       "2    Saltville, VA  United States  36.9222  -81.8781          NaN   \n",
       "3       EUREKA, CA  United States      NaN       NaN          NaN   \n",
       "4       Canton, OH  United States      NaN       NaN          NaN   \n",
       "\n",
       "  Airport.Name  ... Purpose.of.flight Air.carrier Total.Fatal.Injuries  \\\n",
       "0          NaN  ...          Personal         NaN                  2.0   \n",
       "1          NaN  ...          Personal         NaN                  4.0   \n",
       "2          NaN  ...          Personal         NaN                  3.0   \n",
       "3          NaN  ...          Personal         NaN                  2.0   \n",
       "4          NaN  ...          Personal         NaN                  1.0   \n",
       "\n",
       "  Total.Serious.Injuries Total.Minor.Injuries Total.Uninjured  \\\n",
       "0                    0.0                  0.0             0.0   \n",
       "1                    0.0                  0.0             0.0   \n",
       "2                    NaN                  NaN             NaN   \n",
       "3                    0.0                  0.0             0.0   \n",
       "4                    2.0                  NaN             0.0   \n",
       "\n",
       "  Weather.Condition  Broad.phase.of.flight   Report.Status Publication.Date  \n",
       "0               UNK                 Cruise  Probable Cause              NaN  \n",
       "1               UNK                Unknown  Probable Cause       19-09-1996  \n",
       "2               IMC                 Cruise  Probable Cause       26-02-2007  \n",
       "3               IMC                 Cruise  Probable Cause       12-09-2000  \n",
       "4               VMC               Approach  Probable Cause       16-04-1980  \n",
       "\n",
       "[5 rows x 31 columns]"
      ]
     },
     "execution_count": 2,
     "metadata": {},
     "output_type": "execute_result"
    }
   ],
   "source": [
    "# Import data\n",
    "Aviation_data = pd.read_csv('data/Aviation_Data.csv')\n",
    "#View the first 5 values\n",
    "Aviation_data.head()\n"
   ]
  },
  {
   "cell_type": "code",
   "execution_count": 3,
   "metadata": {},
   "outputs": [
    {
     "data": {
      "text/plain": [
       "(90348, 31)"
      ]
     },
     "execution_count": 3,
     "metadata": {},
     "output_type": "execute_result"
    }
   ],
   "source": [
    "# Check the shape of the data\n",
    "Aviation_data.shape"
   ]
  },
  {
   "cell_type": "code",
   "execution_count": 4,
   "metadata": {},
   "outputs": [
    {
     "name": "stdout",
     "output_type": "stream",
     "text": [
      "<class 'pandas.core.frame.DataFrame'>\n",
      "RangeIndex: 90348 entries, 0 to 90347\n",
      "Data columns (total 31 columns):\n",
      " #   Column                  Non-Null Count  Dtype  \n",
      "---  ------                  --------------  -----  \n",
      " 0   Event.Id                88889 non-null  object \n",
      " 1   Investigation.Type      90348 non-null  object \n",
      " 2   Accident.Number         88889 non-null  object \n",
      " 3   Event.Date              88889 non-null  object \n",
      " 4   Location                88837 non-null  object \n",
      " 5   Country                 88663 non-null  object \n",
      " 6   Latitude                34382 non-null  object \n",
      " 7   Longitude               34373 non-null  object \n",
      " 8   Airport.Code            50249 non-null  object \n",
      " 9   Airport.Name            52790 non-null  object \n",
      " 10  Injury.Severity         87889 non-null  object \n",
      " 11  Aircraft.damage         85695 non-null  object \n",
      " 12  Aircraft.Category       32287 non-null  object \n",
      " 13  Registration.Number     87572 non-null  object \n",
      " 14  Make                    88826 non-null  object \n",
      " 15  Model                   88797 non-null  object \n",
      " 16  Amateur.Built           88787 non-null  object \n",
      " 17  Number.of.Engines       82805 non-null  float64\n",
      " 18  Engine.Type             81812 non-null  object \n",
      " 19  FAR.Description         32023 non-null  object \n",
      " 20  Schedule                12582 non-null  object \n",
      " 21  Purpose.of.flight       82697 non-null  object \n",
      " 22  Air.carrier             16648 non-null  object \n",
      " 23  Total.Fatal.Injuries    77488 non-null  float64\n",
      " 24  Total.Serious.Injuries  76379 non-null  float64\n",
      " 25  Total.Minor.Injuries    76956 non-null  float64\n",
      " 26  Total.Uninjured         82977 non-null  float64\n",
      " 27  Weather.Condition       84397 non-null  object \n",
      " 28  Broad.phase.of.flight   61724 non-null  object \n",
      " 29  Report.Status           82508 non-null  object \n",
      " 30  Publication.Date        73659 non-null  object \n",
      "dtypes: float64(5), object(26)\n",
      "memory usage: 21.4+ MB\n"
     ]
    }
   ],
   "source": [
    "# Get the info of the data\n",
    "Aviation_data.info()"
   ]
  },
  {
   "cell_type": "markdown",
   "metadata": {},
   "source": [
    "The data is composed of 2 data types \n",
    "``dtypes: float64(5), object(26)``\n",
    "\n",
    "Presence of missing data "
   ]
  },
  {
   "cell_type": "markdown",
   "metadata": {},
   "source": [
    "## Data cleaning"
   ]
  },
  {
   "cell_type": "markdown",
   "metadata": {},
   "source": [
    "### Numerical Variables"
   ]
  },
  {
   "cell_type": "code",
   "execution_count": 5,
   "metadata": {},
   "outputs": [
    {
     "data": {
      "text/html": [
       "<div>\n",
       "<style scoped>\n",
       "    .dataframe tbody tr th:only-of-type {\n",
       "        vertical-align: middle;\n",
       "    }\n",
       "\n",
       "    .dataframe tbody tr th {\n",
       "        vertical-align: top;\n",
       "    }\n",
       "\n",
       "    .dataframe thead th {\n",
       "        text-align: right;\n",
       "    }\n",
       "</style>\n",
       "<table border=\"1\" class=\"dataframe\">\n",
       "  <thead>\n",
       "    <tr style=\"text-align: right;\">\n",
       "      <th></th>\n",
       "      <th>Number.of.Engines</th>\n",
       "      <th>Total.Fatal.Injuries</th>\n",
       "      <th>Total.Serious.Injuries</th>\n",
       "      <th>Total.Minor.Injuries</th>\n",
       "      <th>Total.Uninjured</th>\n",
       "    </tr>\n",
       "  </thead>\n",
       "  <tbody>\n",
       "    <tr>\n",
       "      <th>83358</th>\n",
       "      <td>1.0</td>\n",
       "      <td>1.0</td>\n",
       "      <td>0.0</td>\n",
       "      <td>0.0</td>\n",
       "      <td>0.0</td>\n",
       "    </tr>\n",
       "    <tr>\n",
       "      <th>1956</th>\n",
       "      <td>1.0</td>\n",
       "      <td>0.0</td>\n",
       "      <td>1.0</td>\n",
       "      <td>0.0</td>\n",
       "      <td>0.0</td>\n",
       "    </tr>\n",
       "    <tr>\n",
       "      <th>73015</th>\n",
       "      <td>1.0</td>\n",
       "      <td>1.0</td>\n",
       "      <td>0.0</td>\n",
       "      <td>0.0</td>\n",
       "      <td>0.0</td>\n",
       "    </tr>\n",
       "    <tr>\n",
       "      <th>87197</th>\n",
       "      <td>1.0</td>\n",
       "      <td>0.0</td>\n",
       "      <td>0.0</td>\n",
       "      <td>0.0</td>\n",
       "      <td>1.0</td>\n",
       "    </tr>\n",
       "    <tr>\n",
       "      <th>81246</th>\n",
       "      <td>1.0</td>\n",
       "      <td>0.0</td>\n",
       "      <td>0.0</td>\n",
       "      <td>0.0</td>\n",
       "      <td>2.0</td>\n",
       "    </tr>\n",
       "    <tr>\n",
       "      <th>43329</th>\n",
       "      <td>1.0</td>\n",
       "      <td>0.0</td>\n",
       "      <td>0.0</td>\n",
       "      <td>0.0</td>\n",
       "      <td>2.0</td>\n",
       "    </tr>\n",
       "  </tbody>\n",
       "</table>\n",
       "</div>"
      ],
      "text/plain": [
       "       Number.of.Engines  Total.Fatal.Injuries  Total.Serious.Injuries  \\\n",
       "83358                1.0                   1.0                     0.0   \n",
       "1956                 1.0                   0.0                     1.0   \n",
       "73015                1.0                   1.0                     0.0   \n",
       "87197                1.0                   0.0                     0.0   \n",
       "81246                1.0                   0.0                     0.0   \n",
       "43329                1.0                   0.0                     0.0   \n",
       "\n",
       "       Total.Minor.Injuries  Total.Uninjured  \n",
       "83358                   0.0              0.0  \n",
       "1956                    0.0              0.0  \n",
       "73015                   0.0              0.0  \n",
       "87197                   0.0              1.0  \n",
       "81246                   0.0              2.0  \n",
       "43329                   0.0              2.0  "
      ]
     },
     "execution_count": 5,
     "metadata": {},
     "output_type": "execute_result"
    }
   ],
   "source": [
    "# Numerical variables\n",
    "numerical_df =Aviation_data.select_dtypes(include='number').copy()\n",
    "numerical_df.sample(6,random_state=42)"
   ]
  },
  {
   "cell_type": "code",
   "execution_count": 6,
   "metadata": {},
   "outputs": [
    {
     "data": {
      "text/plain": [
       "Total.Serious.Injuries    13969\n",
       "Total.Minor.Injuries      13392\n",
       "Total.Fatal.Injuries      12860\n",
       "Number.of.Engines          7543\n",
       "Total.Uninjured            7371\n",
       "dtype: int64"
      ]
     },
     "execution_count": 6,
     "metadata": {},
     "output_type": "execute_result"
    }
   ],
   "source": [
    "# Check for missing data\n",
    "numerical_df.shape\n",
    "numerical_df.isna().sum().sort_values(ascending=False) # "
   ]
  },
  {
   "cell_type": "markdown",
   "metadata": {},
   "source": [
    "Its evident from that our data has alot of missing data. To approch this case we can choose to use the following methods:\n",
    "* Imputing missing data (median,mean,mode)\n",
    "* Ignore the missing data\n",
    "* Remove missing data\n",
    "Deciding which method to use  relies on the understanding of the data and the business analysis being performed on the data"
   ]
  },
  {
   "cell_type": "code",
   "execution_count": 7,
   "metadata": {},
   "outputs": [
    {
     "data": {
      "text/html": [
       "<div>\n",
       "<style scoped>\n",
       "    .dataframe tbody tr th:only-of-type {\n",
       "        vertical-align: middle;\n",
       "    }\n",
       "\n",
       "    .dataframe tbody tr th {\n",
       "        vertical-align: top;\n",
       "    }\n",
       "\n",
       "    .dataframe thead th {\n",
       "        text-align: right;\n",
       "    }\n",
       "</style>\n",
       "<table border=\"1\" class=\"dataframe\">\n",
       "  <thead>\n",
       "    <tr style=\"text-align: right;\">\n",
       "      <th></th>\n",
       "      <th>Number.of.Engines</th>\n",
       "      <th>Total.Fatal.Injuries</th>\n",
       "      <th>Total.Serious.Injuries</th>\n",
       "      <th>Total.Minor.Injuries</th>\n",
       "      <th>Total.Uninjured</th>\n",
       "    </tr>\n",
       "  </thead>\n",
       "  <tbody>\n",
       "    <tr>\n",
       "      <th>count</th>\n",
       "      <td>82805.000000</td>\n",
       "      <td>77488.000000</td>\n",
       "      <td>76379.000000</td>\n",
       "      <td>76956.000000</td>\n",
       "      <td>82977.000000</td>\n",
       "    </tr>\n",
       "    <tr>\n",
       "      <th>mean</th>\n",
       "      <td>1.146585</td>\n",
       "      <td>0.647855</td>\n",
       "      <td>0.279881</td>\n",
       "      <td>0.357061</td>\n",
       "      <td>5.325440</td>\n",
       "    </tr>\n",
       "    <tr>\n",
       "      <th>std</th>\n",
       "      <td>0.446510</td>\n",
       "      <td>5.485960</td>\n",
       "      <td>1.544084</td>\n",
       "      <td>2.235625</td>\n",
       "      <td>27.913634</td>\n",
       "    </tr>\n",
       "    <tr>\n",
       "      <th>min</th>\n",
       "      <td>0.000000</td>\n",
       "      <td>0.000000</td>\n",
       "      <td>0.000000</td>\n",
       "      <td>0.000000</td>\n",
       "      <td>0.000000</td>\n",
       "    </tr>\n",
       "    <tr>\n",
       "      <th>25%</th>\n",
       "      <td>1.000000</td>\n",
       "      <td>0.000000</td>\n",
       "      <td>0.000000</td>\n",
       "      <td>0.000000</td>\n",
       "      <td>0.000000</td>\n",
       "    </tr>\n",
       "    <tr>\n",
       "      <th>50%</th>\n",
       "      <td>1.000000</td>\n",
       "      <td>0.000000</td>\n",
       "      <td>0.000000</td>\n",
       "      <td>0.000000</td>\n",
       "      <td>1.000000</td>\n",
       "    </tr>\n",
       "    <tr>\n",
       "      <th>75%</th>\n",
       "      <td>1.000000</td>\n",
       "      <td>0.000000</td>\n",
       "      <td>0.000000</td>\n",
       "      <td>0.000000</td>\n",
       "      <td>2.000000</td>\n",
       "    </tr>\n",
       "    <tr>\n",
       "      <th>max</th>\n",
       "      <td>8.000000</td>\n",
       "      <td>349.000000</td>\n",
       "      <td>161.000000</td>\n",
       "      <td>380.000000</td>\n",
       "      <td>699.000000</td>\n",
       "    </tr>\n",
       "  </tbody>\n",
       "</table>\n",
       "</div>"
      ],
      "text/plain": [
       "       Number.of.Engines  Total.Fatal.Injuries  Total.Serious.Injuries  \\\n",
       "count       82805.000000          77488.000000            76379.000000   \n",
       "mean            1.146585              0.647855                0.279881   \n",
       "std             0.446510              5.485960                1.544084   \n",
       "min             0.000000              0.000000                0.000000   \n",
       "25%             1.000000              0.000000                0.000000   \n",
       "50%             1.000000              0.000000                0.000000   \n",
       "75%             1.000000              0.000000                0.000000   \n",
       "max             8.000000            349.000000              161.000000   \n",
       "\n",
       "       Total.Minor.Injuries  Total.Uninjured  \n",
       "count          76956.000000     82977.000000  \n",
       "mean               0.357061         5.325440  \n",
       "std                2.235625        27.913634  \n",
       "min                0.000000         0.000000  \n",
       "25%                0.000000         0.000000  \n",
       "50%                0.000000         1.000000  \n",
       "75%                0.000000         2.000000  \n",
       "max              380.000000       699.000000  "
      ]
     },
     "execution_count": 7,
     "metadata": {},
     "output_type": "execute_result"
    }
   ],
   "source": [
    "# Summary statistics\n",
    "numerical_df.describe()"
   ]
  },
  {
   "cell_type": "markdown",
   "metadata": {},
   "source": [
    "Something worth noting is how the variables are distributed there appears:\n",
    "* Outliers maybe present in the some of the variables\n",
    "* A hunch the variables are not normally distributed (check on the distribution)\n",
    "\n",
    "On the matter of choosing to impute the variables at this point it is not advisable to use the measure of central tendency as they maybe misleading to support this let's perform some visualization and try to understand how the central tendency are distributed in the data"
   ]
  },
  {
   "cell_type": "code",
   "execution_count": 8,
   "metadata": {},
   "outputs": [
    {
     "data": {
      "text/plain": [
       "<matplotlib.legend.Legend at 0x1aa48a8bc40>"
      ]
     },
     "execution_count": 8,
     "metadata": {},
     "output_type": "execute_result"
    },
    {
     "data": {
      "image/png": "[encoded data removed]",
      "text/plain": [
       "<Figure size 432x288 with 1 Axes>"
      ]
     },
     "metadata": {
      "needs_background": "light"
     },
     "output_type": "display_data"
    }
   ],
   "source": [
    "# Visualization\n",
    "ax =sns.histplot(data=numerical_df, x=\"Number.of.Engines\")\n",
    "ax.vlines(x=numerical_df['Number.of.Engines'].mean(),color= 'green',ymax=50000,ymin=0,label='Mean')\n",
    "ax.vlines(x=numerical_df['Number.of.Engines'].median(),color= 'black',ymax=30000,ymin=0,label='Median')\n",
    "ax.legend()\n"
   ]
  },
  {
   "cell_type": "code",
   "execution_count": null,
   "metadata": {},
   "outputs": [],
   "source": []
  },
  {
   "cell_type": "markdown",
   "metadata": {},
   "source": [
    "The number of  accidents occurence over the years is it there a trend in the data"
   ]
  },
  {
   "cell_type": "code",
   "execution_count": 9,
   "metadata": {},
   "outputs": [],
   "source": [
    "\n",
    "# Mean_Median plot function\n",
    "def Mean_Median_plot(dataset):\n",
    "    \"\"\" \n",
    "    Input(datset): Takes in a dataset \n",
    "    Returns: Boxplots of the numerical variables in the dataset\n",
    "    \"\"\"\n",
    "    # Ensure it is numeric\n",
    "    dataset = dataset.select_dtypes(include ='number')\n",
    "    for i,col in enumerate(dataset.columns):\n",
    "        plt.figure(i)\n",
    "        sns.histplot(data=dataset, x=col)\n",
    "        # ax.vlines(x=numerical_df[col].mean(),color= 'green',ymax=50000,ymin=0,label='Mean')\n",
    "        # ax.vlines(x=numerical_df[col].median(),color= 'black',ymax=30000,ymin=0,label='Median')\n",
    "        # ax.legend()\n"
   ]
  },
  {
   "cell_type": "markdown",
   "metadata": {},
   "source": [
    "**Conclusion:** \n",
    "* Since we are not going to impute the missing values or ignore them as they can affect the analysis\n",
    "we are going to drop them.\n",
    "* For the outliers it is worth considering that events were recorded and thus data points should not be removed from the data\n",
    "It also makes sense with the data as we expect the number of injuries/accidents to be fewer unless people won't be using airplanes as a form of transport\n"
   ]
  },
  {
   "cell_type": "code",
   "execution_count": 10,
   "metadata": {},
   "outputs": [],
   "source": [
    "numerical_df.dropna(inplace=True)"
   ]
  },
  {
   "cell_type": "code",
   "execution_count": 11,
   "metadata": {},
   "outputs": [
    {
     "data": {
      "text/plain": [
       "(69635, 5)"
      ]
     },
     "execution_count": 11,
     "metadata": {},
     "output_type": "execute_result"
    }
   ],
   "source": [
    "numerical_df.shape"
   ]
  },
  {
   "cell_type": "markdown",
   "metadata": {},
   "source": [
    "### Categorical Variables\n",
    "Most of the variables in this dataset are objects\n"
   ]
  },
  {
   "cell_type": "code",
   "execution_count": 12,
   "metadata": {},
   "outputs": [
    {
     "data": {
      "text/html": [
       "<div>\n",
       "<style scoped>\n",
       "    .dataframe tbody tr th:only-of-type {\n",
       "        vertical-align: middle;\n",
       "    }\n",
       "\n",
       "    .dataframe tbody tr th {\n",
       "        vertical-align: top;\n",
       "    }\n",
       "\n",
       "    .dataframe thead th {\n",
       "        text-align: right;\n",
       "    }\n",
       "</style>\n",
       "<table border=\"1\" class=\"dataframe\">\n",
       "  <thead>\n",
       "    <tr style=\"text-align: right;\">\n",
       "      <th></th>\n",
       "      <th>Event.Id</th>\n",
       "      <th>Investigation.Type</th>\n",
       "      <th>Accident.Number</th>\n",
       "      <th>Event.Date</th>\n",
       "      <th>Location</th>\n",
       "      <th>Country</th>\n",
       "      <th>Latitude</th>\n",
       "      <th>Longitude</th>\n",
       "      <th>Airport.Code</th>\n",
       "      <th>Airport.Name</th>\n",
       "      <th>...</th>\n",
       "      <th>Amateur.Built</th>\n",
       "      <th>Engine.Type</th>\n",
       "      <th>FAR.Description</th>\n",
       "      <th>Schedule</th>\n",
       "      <th>Purpose.of.flight</th>\n",
       "      <th>Air.carrier</th>\n",
       "      <th>Weather.Condition</th>\n",
       "      <th>Broad.phase.of.flight</th>\n",
       "      <th>Report.Status</th>\n",
       "      <th>Publication.Date</th>\n",
       "    </tr>\n",
       "  </thead>\n",
       "  <tbody>\n",
       "    <tr>\n",
       "      <th>0</th>\n",
       "      <td>20001218X45444</td>\n",
       "      <td>Accident</td>\n",
       "      <td>SEA87LA080</td>\n",
       "      <td>1948-10-24</td>\n",
       "      <td>MOOSE CREEK, ID</td>\n",
       "      <td>United States</td>\n",
       "      <td>NaN</td>\n",
       "      <td>NaN</td>\n",
       "      <td>NaN</td>\n",
       "      <td>NaN</td>\n",
       "      <td>...</td>\n",
       "      <td>No</td>\n",
       "      <td>Reciprocating</td>\n",
       "      <td>NaN</td>\n",
       "      <td>NaN</td>\n",
       "      <td>Personal</td>\n",
       "      <td>NaN</td>\n",
       "      <td>UNK</td>\n",
       "      <td>Cruise</td>\n",
       "      <td>Probable Cause</td>\n",
       "      <td>NaN</td>\n",
       "    </tr>\n",
       "    <tr>\n",
       "      <th>1</th>\n",
       "      <td>20001218X45447</td>\n",
       "      <td>Accident</td>\n",
       "      <td>LAX94LA336</td>\n",
       "      <td>1962-07-19</td>\n",
       "      <td>BRIDGEPORT, CA</td>\n",
       "      <td>United States</td>\n",
       "      <td>NaN</td>\n",
       "      <td>NaN</td>\n",
       "      <td>NaN</td>\n",
       "      <td>NaN</td>\n",
       "      <td>...</td>\n",
       "      <td>No</td>\n",
       "      <td>Reciprocating</td>\n",
       "      <td>NaN</td>\n",
       "      <td>NaN</td>\n",
       "      <td>Personal</td>\n",
       "      <td>NaN</td>\n",
       "      <td>UNK</td>\n",
       "      <td>Unknown</td>\n",
       "      <td>Probable Cause</td>\n",
       "      <td>19-09-1996</td>\n",
       "    </tr>\n",
       "    <tr>\n",
       "      <th>2</th>\n",
       "      <td>20061025X01555</td>\n",
       "      <td>Accident</td>\n",
       "      <td>NYC07LA005</td>\n",
       "      <td>1974-08-30</td>\n",
       "      <td>Saltville, VA</td>\n",
       "      <td>United States</td>\n",
       "      <td>36.9222</td>\n",
       "      <td>-81.8781</td>\n",
       "      <td>NaN</td>\n",
       "      <td>NaN</td>\n",
       "      <td>...</td>\n",
       "      <td>No</td>\n",
       "      <td>Reciprocating</td>\n",
       "      <td>NaN</td>\n",
       "      <td>NaN</td>\n",
       "      <td>Personal</td>\n",
       "      <td>NaN</td>\n",
       "      <td>IMC</td>\n",
       "      <td>Cruise</td>\n",
       "      <td>Probable Cause</td>\n",
       "      <td>26-02-2007</td>\n",
       "    </tr>\n",
       "    <tr>\n",
       "      <th>3</th>\n",
       "      <td>20001218X45448</td>\n",
       "      <td>Accident</td>\n",
       "      <td>LAX96LA321</td>\n",
       "      <td>1977-06-19</td>\n",
       "      <td>EUREKA, CA</td>\n",
       "      <td>United States</td>\n",
       "      <td>NaN</td>\n",
       "      <td>NaN</td>\n",
       "      <td>NaN</td>\n",
       "      <td>NaN</td>\n",
       "      <td>...</td>\n",
       "      <td>No</td>\n",
       "      <td>Reciprocating</td>\n",
       "      <td>NaN</td>\n",
       "      <td>NaN</td>\n",
       "      <td>Personal</td>\n",
       "      <td>NaN</td>\n",
       "      <td>IMC</td>\n",
       "      <td>Cruise</td>\n",
       "      <td>Probable Cause</td>\n",
       "      <td>12-09-2000</td>\n",
       "    </tr>\n",
       "    <tr>\n",
       "      <th>4</th>\n",
       "      <td>20041105X01764</td>\n",
       "      <td>Accident</td>\n",
       "      <td>CHI79FA064</td>\n",
       "      <td>1979-08-02</td>\n",
       "      <td>Canton, OH</td>\n",
       "      <td>United States</td>\n",
       "      <td>NaN</td>\n",
       "      <td>NaN</td>\n",
       "      <td>NaN</td>\n",
       "      <td>NaN</td>\n",
       "      <td>...</td>\n",
       "      <td>No</td>\n",
       "      <td>NaN</td>\n",
       "      <td>NaN</td>\n",
       "      <td>NaN</td>\n",
       "      <td>Personal</td>\n",
       "      <td>NaN</td>\n",
       "      <td>VMC</td>\n",
       "      <td>Approach</td>\n",
       "      <td>Probable Cause</td>\n",
       "      <td>16-04-1980</td>\n",
       "    </tr>\n",
       "  </tbody>\n",
       "</table>\n",
       "<p>5 rows × 26 columns</p>\n",
       "</div>"
      ],
      "text/plain": [
       "         Event.Id Investigation.Type Accident.Number  Event.Date  \\\n",
       "0  20001218X45444           Accident      SEA87LA080  1948-10-24   \n",
       "1  20001218X45447           Accident      LAX94LA336  1962-07-19   \n",
       "2  20061025X01555           Accident      NYC07LA005  1974-08-30   \n",
       "3  20001218X45448           Accident      LAX96LA321  1977-06-19   \n",
       "4  20041105X01764           Accident      CHI79FA064  1979-08-02   \n",
       "\n",
       "          Location        Country Latitude Longitude Airport.Code  \\\n",
       "0  MOOSE CREEK, ID  United States      NaN       NaN          NaN   \n",
       "1   BRIDGEPORT, CA  United States      NaN       NaN          NaN   \n",
       "2    Saltville, VA  United States  36.9222  -81.8781          NaN   \n",
       "3       EUREKA, CA  United States      NaN       NaN          NaN   \n",
       "4       Canton, OH  United States      NaN       NaN          NaN   \n",
       "\n",
       "  Airport.Name  ... Amateur.Built    Engine.Type FAR.Description Schedule  \\\n",
       "0          NaN  ...            No  Reciprocating             NaN      NaN   \n",
       "1          NaN  ...            No  Reciprocating             NaN      NaN   \n",
       "2          NaN  ...            No  Reciprocating             NaN      NaN   \n",
       "3          NaN  ...            No  Reciprocating             NaN      NaN   \n",
       "4          NaN  ...            No            NaN             NaN      NaN   \n",
       "\n",
       "  Purpose.of.flight Air.carrier Weather.Condition Broad.phase.of.flight  \\\n",
       "0          Personal         NaN               UNK                Cruise   \n",
       "1          Personal         NaN               UNK               Unknown   \n",
       "2          Personal         NaN               IMC                Cruise   \n",
       "3          Personal         NaN               IMC                Cruise   \n",
       "4          Personal         NaN               VMC              Approach   \n",
       "\n",
       "    Report.Status Publication.Date  \n",
       "0  Probable Cause              NaN  \n",
       "1  Probable Cause       19-09-1996  \n",
       "2  Probable Cause       26-02-2007  \n",
       "3  Probable Cause       12-09-2000  \n",
       "4  Probable Cause       16-04-1980  \n",
       "\n",
       "[5 rows x 26 columns]"
      ]
     },
     "execution_count": 12,
     "metadata": {},
     "output_type": "execute_result"
    }
   ],
   "source": [
    "categorical_df = Aviation_data.select_dtypes(include='object')\n",
    "categorical_df.head()"
   ]
  },
  {
   "cell_type": "code",
   "execution_count": 13,
   "metadata": {},
   "outputs": [
    {
     "data": {
      "text/plain": [
       "(90348, 26)"
      ]
     },
     "execution_count": 13,
     "metadata": {},
     "output_type": "execute_result"
    }
   ],
   "source": [
    "categorical_df.shape"
   ]
  },
  {
   "cell_type": "code",
   "execution_count": 14,
   "metadata": {},
   "outputs": [
    {
     "data": {
      "text/plain": [
       "Schedule                 77766\n",
       "Air.carrier              73700\n",
       "FAR.Description          58325\n",
       "Aircraft.Category        58061\n",
       "Longitude                55975\n",
       "Latitude                 55966\n",
       "Airport.Code             40099\n",
       "Airport.Name             37558\n",
       "Broad.phase.of.flight    28624\n",
       "Publication.Date         16689\n",
       "Engine.Type               8536\n",
       "Report.Status             7840\n",
       "Purpose.of.flight         7651\n",
       "Weather.Condition         5951\n",
       "Aircraft.damage           4653\n",
       "Registration.Number       2776\n",
       "Injury.Severity           2459\n",
       "Country                   1685\n",
       "Amateur.Built             1561\n",
       "Model                     1551\n",
       "Make                      1522\n",
       "Location                  1511\n",
       "Event.Date                1459\n",
       "Accident.Number           1459\n",
       "Event.Id                  1459\n",
       "Investigation.Type           0\n",
       "dtype: int64"
      ]
     },
     "execution_count": 14,
     "metadata": {},
     "output_type": "execute_result"
    }
   ],
   "source": [
    "# Check for missing data\n",
    "categorical_df.isna().sum().sort_values(ascending=False)"
   ]
  },
  {
   "cell_type": "code",
   "execution_count": 15,
   "metadata": {},
   "outputs": [
    {
     "name": "stderr",
     "output_type": "stream",
     "text": [
      "c:\\Users\\savin\\anaconda3\\envs\\learn-env\\lib\\site-packages\\pandas\\core\\frame.py:4163: SettingWithCopyWarning: \n",
      "A value is trying to be set on a copy of a slice from a DataFrame\n",
      "\n",
      "See the caveats in the documentation: https://pandas.pydata.org/pandas-docs/stable/user_guide/indexing.html#returning-a-view-versus-a-copy\n",
      "  return super().drop(\n"
     ]
    }
   ],
   "source": [
    "# Drop columns that have missing values more than 30% of the data \n",
    "categorical_df.drop(['Schedule','Air.carrier','FAR.Description',\n",
    "                     'Longitude','Latitude',\n",
    "                     'Airport.Code','Airport.Name'],axis =1,inplace=True)\n"
   ]
  },
  {
   "cell_type": "code",
   "execution_count": 16,
   "metadata": {},
   "outputs": [
    {
     "data": {
      "text/plain": [
       "(90348, 19)"
      ]
     },
     "execution_count": 16,
     "metadata": {},
     "output_type": "execute_result"
    }
   ],
   "source": [
    "categorical_df.shape"
   ]
  },
  {
   "cell_type": "markdown",
   "metadata": {},
   "source": [
    "Most of the variables have missing data except for the `Investigation Type`\n",
    "Based on the objects we can partion the data objects into various features:\n",
    "\n",
    "**Aircraft features:**\n",
    "Make,Model,Ameteur.Built,AirCraft.Category\n",
    "\n",
    "**Accident features:**\n",
    "Weather.condition\n"
   ]
  },
  {
   "cell_type": "code",
   "execution_count": 17,
   "metadata": {},
   "outputs": [
    {
     "data": {
      "text/plain": [
       "Accident      85015\n",
       "Incident       3874\n",
       "25-09-2020      702\n",
       "26-09-2020       60\n",
       "02-02-2021       39\n",
       "              ...  \n",
       "03-11-2020        1\n",
       "13-09-2021        1\n",
       "05-04-2021        1\n",
       "11-02-2021        1\n",
       "31-03-2021        1\n",
       "Name: Investigation.Type, Length: 71, dtype: int64"
      ]
     },
     "execution_count": 17,
     "metadata": {},
     "output_type": "execute_result"
    }
   ],
   "source": [
    "# Using unique and value count methods to view some of the levels in the categorical variables\n",
    "categorical_df['Investigation.Type'].unique()\n",
    "\n",
    "categorical_df['Investigation.Type'].value_counts()\n",
    "# Data cleaning is necessary for this variable as this is a binary data from"
   ]
  },
  {
   "cell_type": "code",
   "execution_count": 18,
   "metadata": {},
   "outputs": [
    {
     "data": {
      "text/plain": [
       "Accident    85015\n",
       "Incident     3874\n",
       "Name: Investigation.Type, dtype: int64"
      ]
     },
     "execution_count": 18,
     "metadata": {},
     "output_type": "execute_result"
    }
   ],
   "source": [
    "# Filter the data to only have the Accidents and Incidents\n",
    "new_df=categorical_df[(categorical_df['Investigation.Type']=='Accident') |(categorical_df['Investigation.Type']=='Incident')]\n",
    "new_df['Investigation.Type'].value_counts()"
   ]
  },
  {
   "cell_type": "code",
   "execution_count": 19,
   "metadata": {},
   "outputs": [
    {
     "data": {
      "text/plain": [
       "array([85015,  3874], dtype=int64)"
      ]
     },
     "execution_count": 19,
     "metadata": {},
     "output_type": "execute_result"
    }
   ],
   "source": [
    "# Visualize\n",
    "dty =new_df['Investigation.Type'].value_counts()\n",
    "# plt.figure(figsize=(10,8))\n",
    "# plt.bar(x=dty.index,height=dty.values)\n",
    "# plt.title('Aviation accidents 1982 - 2023')\n",
    "# plt.xlabel('Investigation.Type')\n",
    "# plt.ylabel('Count')\n",
    "# plt.show();\n",
    "dty.values"
   ]
  },
  {
   "cell_type": "code",
   "execution_count": 20,
   "metadata": {},
   "outputs": [
    {
     "data": {
      "text/plain": [
       "Non-Fatal    67357\n",
       "Fatal(1)      6167\n",
       "Fatal         5262\n",
       "Fatal(2)      3711\n",
       "Incident      2219\n",
       "Fatal(3)      1147\n",
       "Fatal(4)       812\n",
       "Fatal(5)       235\n",
       "Minor          218\n",
       "Serious        173\n",
       "Name: Injury.Severity, dtype: int64"
      ]
     },
     "execution_count": 20,
     "metadata": {},
     "output_type": "execute_result"
    }
   ],
   "source": [
    "# \n",
    "categorical_df['Injury.Severity'].unique()\n",
    "\n",
    "categorical_df['Injury.Severity'].value_counts().sort_values(ascending=False).head(10)\n",
    "# Data cleaning would help by renaming all the Fatal levels to have three levels"
   ]
  },
  {
   "cell_type": "code",
   "execution_count": 21,
   "metadata": {},
   "outputs": [
    {
     "data": {
      "text/plain": [
       "Airplane             27617\n",
       "Helicopter            3440\n",
       "Glider                 508\n",
       "Balloon                231\n",
       "Gyrocraft              173\n",
       "Weight-Shift           161\n",
       "Powered Parachute       91\n",
       "Ultralight              30\n",
       "Unknown                 14\n",
       "WSFT                     9\n",
       "Powered-Lift             5\n",
       "Blimp                    4\n",
       "UNK                      2\n",
       "Rocket                   1\n",
       "ULTR                     1\n",
       "Name: Aircraft.Category, dtype: int64"
      ]
     },
     "execution_count": 21,
     "metadata": {},
     "output_type": "execute_result"
    }
   ],
   "source": [
    "categorical_df['Aircraft.Category'].value_counts()\n",
    "\n",
    "# categorical_df"
   ]
  },
  {
   "cell_type": "code",
   "execution_count": 22,
   "metadata": {},
   "outputs": [
    {
     "data": {
      "text/plain": [
       "Cessna                   22227\n",
       "Piper                    12029\n",
       "CESSNA                    4922\n",
       "Beech                     4330\n",
       "PIPER                     2841\n",
       "                         ...  \n",
       "HISSERICH NICHOLAS S         1\n",
       "Ohlemeier/stratton           1\n",
       "SCHABACKER KONRAD J          1\n",
       "AIRTIME                      1\n",
       "BALCOMB KENNETH C III        1\n",
       "Name: Make, Length: 8237, dtype: int64"
      ]
     },
     "execution_count": 22,
     "metadata": {},
     "output_type": "execute_result"
    }
   ],
   "source": [
    "categorical_df['Make'].unique()\n",
    "categorical_df['Make'].value_counts()"
   ]
  },
  {
   "cell_type": "code",
   "execution_count": 23,
   "metadata": {},
   "outputs": [
    {
     "data": {
      "text/plain": [
       "Reciprocating      69530\n",
       "Turbo Shaft         3609\n",
       "Turbo Prop          3391\n",
       "Turbo Fan           2481\n",
       "Unknown             2051\n",
       "Turbo Jet            703\n",
       "None                  19\n",
       "Geared Turbofan       12\n",
       "Electric              10\n",
       "LR                     2\n",
       "NONE                   2\n",
       "UNK                    1\n",
       "Hybrid Rocket          1\n",
       "Name: Engine.Type, dtype: int64"
      ]
     },
     "execution_count": 23,
     "metadata": {},
     "output_type": "execute_result"
    }
   ],
   "source": [
    "categorical_df['Engine.Type'].value_counts()\n",
    "# Data cleaning combine the None and none"
   ]
  },
  {
   "cell_type": "code",
   "execution_count": 24,
   "metadata": {},
   "outputs": [
    {
     "name": "stderr",
     "output_type": "stream",
     "text": [
      "c:\\Users\\savin\\anaconda3\\envs\\learn-env\\lib\\site-packages\\pandas\\core\\indexing.py:1783: SettingWithCopyWarning: \n",
      "A value is trying to be set on a copy of a slice from a DataFrame.\n",
      "Try using .loc[row_indexer,col_indexer] = value instead\n",
      "\n",
      "See the caveats in the documentation: https://pandas.pydata.org/pandas-docs/stable/user_guide/indexing.html#returning-a-view-versus-a-copy\n",
      "  self.obj[item_labels[indexer[info_axis]]] = value\n"
     ]
    }
   ],
   "source": [
    "# Combine the None and NONE for the engine type\n",
    "categorical_df.loc[:,'Engine.Type'] = categorical_df['Engine.Type'].str.replace('NONE','None')"
   ]
  },
  {
   "cell_type": "code",
   "execution_count": 25,
   "metadata": {},
   "outputs": [],
   "source": [
    "# Weather condition\n",
    "categorical_df['Weather.Condition'].value_counts()\n",
    "# Data cleaning to merge the Unknown weather conditions\n",
    "categorical_df.loc[:,'Weather.Condition'] = categorical_df['Weather.Condition'].str.replace('UNK','Unk')\n",
    "\n",
    "We_data =categorical_df['Weather.Condition'].value_counts()\n"
   ]
  },
  {
   "cell_type": "code",
   "execution_count": 26,
   "metadata": {},
   "outputs": [
    {
     "data": {
      "image/png": "[encoded data removed]",
      "text/plain": [
       "<Figure size 432x288 with 1 Axes>"
      ]
     },
     "metadata": {},
     "output_type": "display_data"
    }
   ],
   "source": [
    "# declaring exploding pie \n",
    "explode = [0, 0.1, 0 ] \n",
    "# define Seaborn color palette to use \n",
    "palette_color = sns.color_palette('dark') \n",
    "  \n",
    "# plotting data on chart \n",
    "sns.set_style(\"whitegrid\")\n",
    "plt.pie(We_data.values, labels=We_data.index, colors=palette_color, \n",
    "        explode=explode, autopct='%.0f%%') \n",
    "plt.legend(loc = 'upper right')\n",
    "  \n",
    "# displaying chart \n",
    "plt.show() "
   ]
  },
  {
   "cell_type": "code",
   "execution_count": 27,
   "metadata": {},
   "outputs": [
    {
     "data": {
      "text/plain": [
       "Landing        15428\n",
       "Takeoff        12493\n",
       "Cruise         10269\n",
       "Maneuvering     8144\n",
       "Approach        6546\n",
       "Climb           2034\n",
       "Taxi            1958\n",
       "Descent         1887\n",
       "Go-around       1353\n",
       "Standing         945\n",
       "Unknown          548\n",
       "Other            119\n",
       "Name: Broad.phase.of.flight, dtype: int64"
      ]
     },
     "execution_count": 27,
     "metadata": {},
     "output_type": "execute_result"
    }
   ],
   "source": [
    "new_df['Broad.phase.of.flight'].value_counts()"
   ]
  },
  {
   "cell_type": "code",
   "execution_count": 28,
   "metadata": {},
   "outputs": [
    {
     "data": {
      "text/plain": [
       "Cessna                   22227\n",
       "Piper                    12029\n",
       "CESSNA                    4922\n",
       "Beech                     4330\n",
       "PIPER                     2841\n",
       "                         ...  \n",
       "HISSERICH NICHOLAS S         1\n",
       "Ohlemeier/stratton           1\n",
       "SCHABACKER KONRAD J          1\n",
       "AIRTIME                      1\n",
       "BALCOMB KENNETH C III        1\n",
       "Name: Make, Length: 8237, dtype: int64"
      ]
     },
     "execution_count": 28,
     "metadata": {},
     "output_type": "execute_result"
    }
   ],
   "source": [
    "categorical_df['Make'].value_counts()\n",
    "# Text analysis \n",
    "# loss engine power engine out \"words\""
   ]
  },
  {
   "cell_type": "code",
   "execution_count": 29,
   "metadata": {},
   "outputs": [],
   "source": [
    "# Convert the Event.Date to a date variable\n",
    "categorical_df.loc[:,'Event.Date'] =pd.to_datetime(categorical_df['Event.Date'])\n"
   ]
  },
  {
   "cell_type": "code",
   "execution_count": 30,
   "metadata": {},
   "outputs": [
    {
     "name": "stdout",
     "output_type": "stream",
     "text": [
      "<class 'pandas.core.frame.DataFrame'>\n",
      "RangeIndex: 90348 entries, 0 to 90347\n",
      "Data columns (total 19 columns):\n",
      " #   Column                 Non-Null Count  Dtype         \n",
      "---  ------                 --------------  -----         \n",
      " 0   Event.Id               88889 non-null  object        \n",
      " 1   Investigation.Type     90348 non-null  object        \n",
      " 2   Accident.Number        88889 non-null  object        \n",
      " 3   Event.Date             88889 non-null  datetime64[ns]\n",
      " 4   Location               88837 non-null  object        \n",
      " 5   Country                88663 non-null  object        \n",
      " 6   Injury.Severity        87889 non-null  object        \n",
      " 7   Aircraft.damage        85695 non-null  object        \n",
      " 8   Aircraft.Category      32287 non-null  object        \n",
      " 9   Registration.Number    87572 non-null  object        \n",
      " 10  Make                   88826 non-null  object        \n",
      " 11  Model                  88797 non-null  object        \n",
      " 12  Amateur.Built          88787 non-null  object        \n",
      " 13  Engine.Type            81812 non-null  object        \n",
      " 14  Purpose.of.flight      82697 non-null  object        \n",
      " 15  Weather.Condition      84397 non-null  object        \n",
      " 16  Broad.phase.of.flight  61724 non-null  object        \n",
      " 17  Report.Status          82508 non-null  object        \n",
      " 18  Publication.Date       73659 non-null  object        \n",
      "dtypes: datetime64[ns](1), object(18)\n",
      "memory usage: 13.1+ MB\n"
     ]
    }
   ],
   "source": [
    "categorical_df.info()"
   ]
  },
  {
   "cell_type": "code",
   "execution_count": 31,
   "metadata": {},
   "outputs": [
    {
     "name": "stderr",
     "output_type": "stream",
     "text": [
      "<ipython-input-31-b20af93bc5f3>:2: SettingWithCopyWarning: \n",
      "A value is trying to be set on a copy of a slice from a DataFrame.\n",
      "Try using .loc[row_indexer,col_indexer] = value instead\n",
      "\n",
      "See the caveats in the documentation: https://pandas.pydata.org/pandas-docs/stable/user_guide/indexing.html#returning-a-view-versus-a-copy\n",
      "  categorical_df['Year'] = categorical_df['Event.Date'].dt.year\n"
     ]
    },
    {
     "data": {
      "image/png": "[encoded data removed]",
      "text/plain": [
       "<Figure size 720x576 with 1 Axes>"
      ]
     },
     "metadata": {},
     "output_type": "display_data"
    }
   ],
   "source": [
    "# Visualize the date variable to understand the trend in the accidents from  the years 1982 due to lack of sufficient data for the previous years\n",
    "categorical_df['Year'] = categorical_df['Event.Date'].dt.year\n",
    "\n",
    "categorical_df = categorical_df[categorical_df['Year']>1981]\n",
    "# Check for missing data and remove\n",
    "categorical_df =categorical_df.dropna(subset=['Year'])\n",
    "\n",
    "# Get the value counts of the accidents\n",
    "Accident_year = categorical_df['Year'].value_counts().sort_index()\n",
    "Accident_year\n",
    "#Plot the year data\n",
    "plt.figure(figsize=(10,8))\n",
    "plt.plot(Accident_year.index,Accident_year.values)\n",
    "plt.title('Number of Aviation Accidents (1980 Onwards)')\n",
    "plt.xlabel('Year')\n",
    "plt.ylabel('Number of Accidents')\n",
    "plt.grid(True)\n",
    "plt.xticks(rotation=45)\n",
    "plt.show()"
   ]
  },
  {
   "cell_type": "code",
   "execution_count": 32,
   "metadata": {},
   "outputs": [],
   "source": [
    "# Combine the numeical and categorical dataframes\n",
    "Aviation_clean =numerical_df.join(categorical_df,how='inner')"
   ]
  },
  {
   "cell_type": "code",
   "execution_count": 33,
   "metadata": {},
   "outputs": [
    {
     "data": {
      "text/plain": [
       "(69631, 25)"
      ]
     },
     "execution_count": 33,
     "metadata": {},
     "output_type": "execute_result"
    }
   ],
   "source": [
    "# Get the shape of the data\n",
    "Aviation_clean.shape"
   ]
  },
  {
   "cell_type": "markdown",
   "metadata": {},
   "source": [
    "## Exploratory Data Analysis & Visualization 🤖\n",
    "\n",
    "For this section we are interested in seeking the patterns in our data that aims to give us insights into the data we are analysing:\n",
    "1. Safety Records: \n",
    "  * Accident rates per aircraft model: How many accidents/incidents are associated with each model?\n",
    "  * Injury Severity: How many accidents result in serious or fatal injuries?\n",
    "2. Flight Purpose: The dataset includes a column for \"Purpose of flight\" (e.g., personal, business, instructional).This will help differentiate between aircraft used for private versus commercial purposes\n",
    "3. What are the routes/Airports/Area that have terrible weather condition and can reveal which aircraft perform better under certain weather conditions.\n",
    "4. Based on the report.status what type of engines/make/model had engine failures\n",
    "5. Phases of Flight: The column \"Broad phase of flight\" will help identify during which flight phase (e.g., takeoff, cruise, landing) accidents tend to occur for different aircraft\n",
    "6. The columns for \"Make\" and \"Model\" will allow us to determine which specific aircraft manufacturers and models have better safety records.\n",
    "\n",
    "\n",
    "\n"
   ]
  },
  {
   "cell_type": "code",
   "execution_count": 34,
   "metadata": {},
   "outputs": [
    {
     "name": "stdout",
     "output_type": "stream",
     "text": [
      "United States    67379\n",
      "Brazil             154\n",
      "Bahamas            128\n",
      "Mexico             112\n",
      "Canada              93\n",
      "                 ...  \n",
      "Vietnam              1\n",
      "Nicaragua            1\n",
      "Qatar                1\n",
      "Anguilla             1\n",
      "AY                   1\n",
      "Name: Country, Length: 157, dtype: int64\n"
     ]
    }
   ],
   "source": [
    "print(Aviation_clean['Country'].value_counts())\n",
    "# Since most of the accidents are occuring in the United States we can filter the data\n",
    "Aviation_clean = Aviation_clean[Aviation_clean['Country']=='United States']"
   ]
  },
  {
   "cell_type": "code",
   "execution_count": 35,
   "metadata": {},
   "outputs": [
    {
     "data": {
      "text/plain": [
       "United States    67379\n",
       "Name: Country, dtype: int64"
      ]
     },
     "execution_count": 35,
     "metadata": {},
     "output_type": "execute_result"
    }
   ],
   "source": [
    "Aviation_clean.Country.value_counts()"
   ]
  },
  {
   "cell_type": "code",
   "execution_count": 36,
   "metadata": {},
   "outputs": [],
   "source": [
    "# 1.Accident rates per aircraft model: How many accidents/incidents are associated with each model?\n",
    "Aviation_clean.Model.value_counts()\n",
    "Aviation_clean['Investigation.Type'].value_counts()\n",
    "\n",
    "# Check the first ten models with the highest accident/incident \n",
    "Model_Accident=Aviation_clean.groupby('Model').agg({'Investigation.Type':'count'}).sort_values(ascending=False,by ='Investigation.Type').head(10)\n",
    "\n",
    "# Check the last ten models with the lowest accident/incident\n",
    "Model_Accident_lowest=Aviation_clean.groupby('Model').agg({'Investigation.Type':'count'}).sort_values(ascending=False,by ='Investigation.Type').tail(10)"
   ]
  },
  {
   "cell_type": "code",
   "execution_count": 37,
   "metadata": {},
   "outputs": [
    {
     "data": {
      "image/png": "[encoded data removed]",
      "text/plain": [
       "<Figure size 720x576 with 1 Axes>"
      ]
     },
     "metadata": {},
     "output_type": "display_data"
    }
   ],
   "source": [
    "# let's visualize it\n",
    "plt.figure(figsize=(10,8))\n",
    "plt.bar(x=Model_Accident.index,height=Model_Accident['Investigation.Type'])\n",
    "plt.title('Models with the highest accident/incident cases')\n",
    "plt.ylabel('No.accidents')\n",
    "plt.xlabel('Aircraft Model');\n",
    "\n",
    "# Model_Accident\n"
   ]
  },
  {
   "cell_type": "markdown",
   "metadata": {},
   "source": [
    "* The data on Investigation Type highlights that the Cessna 152 model is associated with the highest number of incidents or investigations (2,083), followed by the Cessna 172 (1,494) and Cessna 172N (930). Piper models like the PA-28-140 (775) and 150 (731) also feature prominently. These findings suggest that these models, especially popular training aircraft like the Cessna 152 and 172, are frequently involved in incidents, possibly due to their widespread use in flight schools and for personal aviation.\n",
    "<!--  -->\n",
    "**Recommendation:** For safety, it is advisable to scrutinize these commonly used models, particularly in training environments, where inexperienced pilots may contribute to higher accident rates. Ensuring that these aircraft undergo regular maintenance and that pilots are thoroughly trained on safety procedures is key to mitigating risks. Additionally, considering alternative aircraft models with better safety records may be beneficial for specific operational needs."
   ]
  },
  {
   "cell_type": "code",
   "execution_count": 38,
   "metadata": {},
   "outputs": [],
   "source": [
    "# Injury Severity: How many accidents result in serious or fatal injuries?\n"
   ]
  },
  {
   "cell_type": "code",
   "execution_count": 39,
   "metadata": {},
   "outputs": [
    {
     "data": {
      "image/png": "[encoded data removed]",
      "text/plain": [
       "<Figure size 720x576 with 1 Axes>"
      ]
     },
     "metadata": {},
     "output_type": "display_data"
    }
   ],
   "source": [
    "# \"Purpose of flight\"\n",
    "top_ten_Purpose_flights =Aviation_clean['Purpose.of.flight'].value_counts().sort_values(ascending=False).head(10)\n",
    "\n",
    "# create a function\n",
    "def Bar_plot(dataset,column):\n",
    "    plt.figure(figsize=(10,8))\n",
    "    plt.bar(x=dataset.index,height=dataset.values)\n",
    "    plt.title(f'Bar plot of {column}')\n",
    "    plt.ylabel('No.accidents')\n",
    "    plt.xlabel(f'{column}')\n",
    "    plt.xticks(rotation =45);\n",
    "\n",
    "\n",
    "col ='Purpose.of.flight'\n",
    "\n",
    "Bar_plot(top_ten_Purpose_flights,col)\n",
    "    \n",
    "# top_ten_Purpose_flights.values"
   ]
  },
  {
   "cell_type": "markdown",
   "metadata": {},
   "source": [
    "* The data shows that personal flights account for the highest number of incidents, with 39,762 accidents. This may be due to the variability in pilot experience and less stringent maintenance protocols often associated with private flying. Instructional flights also present significant risks, with 8,486 incidents, likely linked to the learning environment where students are still developing skills. To mitigate these risks, it’s essential to prioritize aircraft with strong safety records for private and training use, implement stricter maintenance schedules, and provide enhanced training programs, especially for student pilots.\n",
    "\n",
    "* Other flight purposes, such as aerial application (3,987 incidents) and business flights (3,337 incidents), also show moderate risks. These may be due to the operational demands specific to each type of flight, such as crop-dusting or regular business travel. For these operations, selecting aircraft models designed to handle specific tasks, along with customized safety protocols, is crucial."
   ]
  },
  {
   "cell_type": "code",
   "execution_count": 40,
   "metadata": {},
   "outputs": [
    {
     "data": {
      "image/png": "[encoded data removed]",
      "text/plain": [
       "<Figure size 720x576 with 1 Axes>"
      ]
     },
     "metadata": {},
     "output_type": "display_data"
    }
   ],
   "source": [
    "# The Broad phase of flight\n",
    "Broad_flights =Aviation_clean['Broad.phase.of.flight'].value_counts()\n",
    "# Broad_flights\n",
    "Bar_plot(Broad_flights,'Broad.phase.of.flight')"
   ]
  },
  {
   "cell_type": "markdown",
   "metadata": {},
   "source": [
    "Landing and takeoff are the most accident-prone phases, with 11,444 and 9,754 accidents/incidents, highlighting the complexity and risks involved in these critical moments. Cruise (7,987) and maneuvering (6,341) phases also see significant accidents/incidents due to mechanical issues or sharp turns. Approach (4,955) poses risks during landing preparations. While climb, taxi, and descent have fewer accidents/incidents, they still present risks from engine failures or misjudgments. Go-around and standing accidents/incidents show additional concerns. Prioritizing aircraft with strong performance in landing and takeoff, advanced safety technology, and enhanced pilot training are key to minimizing these risks."
   ]
  },
  {
   "cell_type": "code",
   "execution_count": 41,
   "metadata": {},
   "outputs": [
    {
     "data": {
      "image/png": "[encoded data removed]",
      "text/plain": [
       "<Figure size 720x576 with 1 Axes>"
      ]
     },
     "metadata": {},
     "output_type": "display_data"
    },
    {
     "data": {
      "image/png": "[encoded data removed]",
      "text/plain": [
       "<Figure size 720x576 with 1 Axes>"
      ]
     },
     "metadata": {},
     "output_type": "display_data"
    }
   ],
   "source": [
    "# Weather condition\n",
    "Weather_data=Aviation_clean.groupby(['Weather.Condition','Model']).count()['Number.of.Engines'].sort_values(ascending=False)\n",
    "Weather_data['VMC'].head(10)\n",
    "Weather_data['IMC'].head(10)\n",
    "# Weather_data\n",
    "Bar_plot(Weather_data['IMC'].head(10),'Weather.Condition(IMC)')\n",
    "Bar_plot(Weather_data['VMC'].head(10),'Weather.Condition(VMC)')"
   ]
  },
  {
   "cell_type": "markdown",
   "metadata": {},
   "source": [
    "1. IMC (Instrument Meteorological Conditions):\n",
    "\n",
    "* Aircraft like the PA-28-181, 172N, and A36 have higher accident rates in IMC, with 73, 69, and 66 incidents, respectively. These conditions involve poor visibility, making navigation challenging. For operations frequently conducted in low-visibility or adverse weather, these models may require extra caution.\n",
    "* Recommendation: If using these models in IMC, ensure pilots undergo thorough instrument flight training and consider equipping aircraft with advanced navigation and weather monitoring systems to enhance safety.\n",
    "\n",
    "2. VMC (Visual Meteorological Conditions):\n",
    "\n",
    "* Aircraft such as the 152, 172, and 172N have significantly more accidents in VMC, with 2,011, 1,410, and 848 incidents, respectively. Since VMC accidents occur in good visibility, they may indicate human error or mechanical issues during simpler conditions.\n",
    "* Recommendation: Prioritize regular maintenance checks and improved pilot situational awareness for these models in VMC. Even in good weather, complacency or over-reliance on visual cues can lead to accidents.\n",
    "In both cases, enhancing training and implementing additional safety measures can help mitigate risks in these common weather conditions.   "
   ]
  },
  {
   "cell_type": "code",
   "execution_count": 42,
   "metadata": {},
   "outputs": [
    {
     "data": {
      "text/plain": [
       "Cessna_152         1909\n",
       "Cessna_172         1089\n",
       "Cessna_172N         778\n",
       "Piper_PA-28-140     663\n",
       "Cessna_150          651\n",
       "Cessna_172M         518\n",
       "Cessna_172P         475\n",
       "Cessna_150M         473\n",
       "Piper_PA-18         429\n",
       "Piper_PA-28-161     405\n",
       "Name: Make_model, dtype: int64"
      ]
     },
     "execution_count": 42,
     "metadata": {},
     "output_type": "execute_result"
    }
   ],
   "source": [
    "# 6. Combine the make and model of the aircraft\n",
    "Aviation_clean['Make_model'] = Aviation_clean['Make'] + '_' + Aviation_clean['Model']\n",
    "\n",
    "# get the value count of the make_model\n",
    "Aviation_clean['Make_model'].value_counts().sort_values(ascending=False).head(10)"
   ]
  },
  {
   "cell_type": "code",
   "execution_count": 43,
   "metadata": {},
   "outputs": [
    {
     "data": {
      "text/html": [
       "<div>\n",
       "<style scoped>\n",
       "    .dataframe tbody tr th:only-of-type {\n",
       "        vertical-align: middle;\n",
       "    }\n",
       "\n",
       "    .dataframe tbody tr th {\n",
       "        vertical-align: top;\n",
       "    }\n",
       "\n",
       "    .dataframe thead th {\n",
       "        text-align: right;\n",
       "    }\n",
       "</style>\n",
       "<table border=\"1\" class=\"dataframe\">\n",
       "  <thead>\n",
       "    <tr style=\"text-align: right;\">\n",
       "      <th></th>\n",
       "      <th>Total.Fatal.Injuries</th>\n",
       "      <th>Total.Serious.Injuries</th>\n",
       "      <th>Total.Minor.Injuries</th>\n",
       "      <th>Total.Uninjured</th>\n",
       "    </tr>\n",
       "    <tr>\n",
       "      <th>Make_model</th>\n",
       "      <th></th>\n",
       "      <th></th>\n",
       "      <th></th>\n",
       "      <th></th>\n",
       "    </tr>\n",
       "  </thead>\n",
       "  <tbody>\n",
       "    <tr>\n",
       "      <th>177MF LLC_PITTS MODEL 12</th>\n",
       "      <td>0.0</td>\n",
       "      <td>2.0</td>\n",
       "      <td>0.0</td>\n",
       "      <td>0.0</td>\n",
       "    </tr>\n",
       "    <tr>\n",
       "      <th>1st Ftr Gp_FOCKE-WULF 190</th>\n",
       "      <td>1.0</td>\n",
       "      <td>0.0</td>\n",
       "      <td>0.0</td>\n",
       "      <td>0.0</td>\n",
       "    </tr>\n",
       "    <tr>\n",
       "      <th>2007 Savage Air LLC_EPIC LT</th>\n",
       "      <td>0.0</td>\n",
       "      <td>0.0</td>\n",
       "      <td>0.0</td>\n",
       "      <td>4.0</td>\n",
       "    </tr>\n",
       "    <tr>\n",
       "      <th>2021FX3 LLC_CCX-2000</th>\n",
       "      <td>0.0</td>\n",
       "      <td>0.0</td>\n",
       "      <td>0.0</td>\n",
       "      <td>4.0</td>\n",
       "    </tr>\n",
       "    <tr>\n",
       "      <th>5 RIVERS LLC_SQ-2</th>\n",
       "      <td>0.0</td>\n",
       "      <td>0.0</td>\n",
       "      <td>1.0</td>\n",
       "      <td>1.0</td>\n",
       "    </tr>\n",
       "    <tr>\n",
       "      <th>...</th>\n",
       "      <td>...</td>\n",
       "      <td>...</td>\n",
       "      <td>...</td>\n",
       "      <td>...</td>\n",
       "    </tr>\n",
       "    <tr>\n",
       "      <th>de Havilland_DHC-2 MK I</th>\n",
       "      <td>2.0</td>\n",
       "      <td>3.0</td>\n",
       "      <td>0.0</td>\n",
       "      <td>0.0</td>\n",
       "    </tr>\n",
       "    <tr>\n",
       "      <th>de Havilland_DHC-3</th>\n",
       "      <td>0.0</td>\n",
       "      <td>0.0</td>\n",
       "      <td>0.0</td>\n",
       "      <td>8.0</td>\n",
       "    </tr>\n",
       "    <tr>\n",
       "      <th>de Havilland_DHC-6-200</th>\n",
       "      <td>0.0</td>\n",
       "      <td>0.0</td>\n",
       "      <td>0.0</td>\n",
       "      <td>15.0</td>\n",
       "    </tr>\n",
       "    <tr>\n",
       "      <th>de Havilland_DHC-8-202</th>\n",
       "      <td>0.0</td>\n",
       "      <td>1.0</td>\n",
       "      <td>1.0</td>\n",
       "      <td>20.0</td>\n",
       "    </tr>\n",
       "    <tr>\n",
       "      <th>unknown_kit</th>\n",
       "      <td>0.0</td>\n",
       "      <td>0.0</td>\n",
       "      <td>1.0</td>\n",
       "      <td>0.0</td>\n",
       "    </tr>\n",
       "  </tbody>\n",
       "</table>\n",
       "<p>15269 rows × 4 columns</p>\n",
       "</div>"
      ],
      "text/plain": [
       "                             Total.Fatal.Injuries  Total.Serious.Injuries  \\\n",
       "Make_model                                                                  \n",
       "177MF LLC_PITTS MODEL 12                      0.0                     2.0   \n",
       "1st Ftr Gp_FOCKE-WULF 190                     1.0                     0.0   \n",
       "2007 Savage Air LLC_EPIC LT                   0.0                     0.0   \n",
       "2021FX3 LLC_CCX-2000                          0.0                     0.0   \n",
       "5 RIVERS LLC_SQ-2                             0.0                     0.0   \n",
       "...                                           ...                     ...   \n",
       "de Havilland_DHC-2 MK I                       2.0                     3.0   \n",
       "de Havilland_DHC-3                            0.0                     0.0   \n",
       "de Havilland_DHC-6-200                        0.0                     0.0   \n",
       "de Havilland_DHC-8-202                        0.0                     1.0   \n",
       "unknown_kit                                   0.0                     0.0   \n",
       "\n",
       "                             Total.Minor.Injuries  Total.Uninjured  \n",
       "Make_model                                                          \n",
       "177MF LLC_PITTS MODEL 12                      0.0              0.0  \n",
       "1st Ftr Gp_FOCKE-WULF 190                     0.0              0.0  \n",
       "2007 Savage Air LLC_EPIC LT                   0.0              4.0  \n",
       "2021FX3 LLC_CCX-2000                          0.0              4.0  \n",
       "5 RIVERS LLC_SQ-2                             1.0              1.0  \n",
       "...                                           ...              ...  \n",
       "de Havilland_DHC-2 MK I                       0.0              0.0  \n",
       "de Havilland_DHC-3                            0.0              8.0  \n",
       "de Havilland_DHC-6-200                        0.0             15.0  \n",
       "de Havilland_DHC-8-202                        1.0             20.0  \n",
       "unknown_kit                                   1.0              0.0  \n",
       "\n",
       "[15269 rows x 4 columns]"
      ]
     },
     "execution_count": 43,
     "metadata": {},
     "output_type": "execute_result"
    }
   ],
   "source": [
    "# Group the data by make model and acces the injury rates \n",
    "Model_injuries =Aviation_clean.groupby('Make_model').agg({'Total.Fatal.Injuries':'sum',\n",
    "                                          'Total.Serious.Injuries':'sum',\n",
    "                                          'Total.Minor.Injuries':'sum',\n",
    "                                          'Total.Uninjured' : 'sum'\n",
    "                                          })\n",
    "Model_injuries"
   ]
  },
  {
   "cell_type": "code",
   "execution_count": 44,
   "metadata": {},
   "outputs": [
    {
     "data": {
      "text/plain": [
       "Make_model\n",
       "Cessna_152         301.0\n",
       "Piper_PA-28-181    281.0\n",
       "Cessna_172N        278.0\n",
       "Boeing_747-131     230.0\n",
       "Piper_PA-28-140    221.0\n",
       "Cessna_172P        181.0\n",
       "Piper_PA-28-180    181.0\n",
       "Piper_PA-28-161    178.0\n",
       "Cessna_172M        166.0\n",
       "Beech_A36          159.0\n",
       "Name: Total.Fatal.Injuries, dtype: float64"
      ]
     },
     "execution_count": 44,
     "metadata": {},
     "output_type": "execute_result"
    }
   ],
   "source": [
    "# Total injuries\n",
    "Model_injuries['Total.Fatal.Injuries'].sort_values(ascending=False).head(10)"
   ]
  },
  {
   "cell_type": "code",
   "execution_count": 45,
   "metadata": {},
   "outputs": [
    {
     "data": {
      "text/plain": [
       "Make_model\n",
       "Piper_PA-28-140     182.0\n",
       "Cessna_172          173.0\n",
       "Cessna_152          147.0\n",
       "BOEING_777-200ER    137.0\n",
       "BOEING_737 7H4      133.0\n",
       "Cessna_172N         129.0\n",
       "Piper_PA-28-180     106.0\n",
       "Cessna_172M         103.0\n",
       "CESSNA_172          100.0\n",
       "Cessna_150           90.0\n",
       "Name: Total.Serious.Injuries, dtype: float64"
      ]
     },
     "execution_count": 45,
     "metadata": {},
     "output_type": "execute_result"
    }
   ],
   "source": [
    "# Serious Injuries\n",
    "Model_injuries['Total.Serious.Injuries'].sort_values(ascending=False).head(10)"
   ]
  },
  {
   "cell_type": "code",
   "execution_count": 46,
   "metadata": {},
   "outputs": [
    {
     "data": {
      "text/plain": [
       "Make_model\n",
       "Cessna_152                    343.0\n",
       "Piper_PA-28-140               312.0\n",
       "Cessna_172                    284.0\n",
       "Cessna_172N                   264.0\n",
       "Mcdonnell Douglas_DC-10-10    193.0\n",
       "Cessna_172M                   181.0\n",
       "Cessna_172P                   171.0\n",
       "Cessna_150                    162.0\n",
       "Piper_PA-28-181               157.0\n",
       "Mcdonnell Douglas_MD-11       137.0\n",
       "Name: Total.Minor.Injuries, dtype: float64"
      ]
     },
     "execution_count": 46,
     "metadata": {},
     "output_type": "execute_result"
    }
   ],
   "source": [
    "Model_injuries['Total.Minor.Injuries'].sort_values(ascending=False).head(10)"
   ]
  },
  {
   "cell_type": "code",
   "execution_count": 47,
   "metadata": {},
   "outputs": [
    {
     "data": {
      "image/png": "[encoded data removed]",
      "text/plain": [
       "<Figure size 720x576 with 1 Axes>"
      ]
     },
     "metadata": {},
     "output_type": "display_data"
    }
   ],
   "source": [
    "Uninjured=Model_injuries['Total.Uninjured'].sort_values(ascending=False).head(10)\n",
    "Bar_plot(Uninjured,'Total.Uninjured')"
   ]
  },
  {
   "cell_type": "code",
   "execution_count": 48,
   "metadata": {},
   "outputs": [
    {
     "data": {
      "image/png": "[encoded data removed]",
      "text/plain": [
       "<Figure size 720x432 with 1 Axes>"
      ]
     },
     "metadata": {},
     "output_type": "display_data"
    }
   ],
   "source": [
    "plt.figure(figsize = (10, 6))\n",
    "sns.countplot(data = Aviation_clean, x = 'Aircraft.damage', hue = 'Investigation.Type')\n",
    "plt.title('Airplane in investigation type based on Aircraft Damage')\n",
    "plt.legend(loc = 'upper right')\n",
    "plt.show()"
   ]
  },
  {
   "cell_type": "code",
   "execution_count": 49,
   "metadata": {},
   "outputs": [
    {
     "data": {
      "image/png": "[encoded data removed]",
      "text/plain": [
       "<Figure size 720x576 with 1 Axes>"
      ]
     },
     "metadata": {},
     "output_type": "display_data"
    },
    {
     "data": {
      "image/png": "[encoded data removed]",
      "text/plain": [
       "<Figure size 720x576 with 1 Axes>"
      ]
     },
     "metadata": {},
     "output_type": "display_data"
    },
    {
     "data": {
      "image/png": "[encoded data removed]",
      "text/plain": [
       "<Figure size 720x576 with 1 Axes>"
      ]
     },
     "metadata": {},
     "output_type": "display_data"
    }
   ],
   "source": [
    "# 1. Safety Records\n",
    "# Group by aircraft damage and investigate the make_model\n",
    "Damage_model =Aviation_clean.groupby(['Make_model','Aircraft.damage']).agg({'Aircraft.damage':'count'}).rename(columns={'Aircraft.damage': 'Aircraft.damage.Count'}).sort_values(ascending=False,by='Aircraft.damage.Count').reset_index()\n",
    "\n",
    "# Filter by Aircraft.Damage\n",
    "# Destroyed\n",
    "Destroyed=Damage_model[Damage_model['Aircraft.damage']=='Destroyed'].head(10)\n",
    "# Substantial \n",
    "Substantial=Damage_model[Damage_model['Aircraft.damage']=='Substantial'].head(10)\n",
    "# Minor \n",
    "Minor=Damage_model[Damage_model['Aircraft.damage']=='Minor'].head(10)\n",
    "\n",
    "# Add a count plot to visualize make_model that were  destroyed during accidents\n",
    "plt.figure(figsize=(10,8))\n",
    "# Plot Destroyed Aircraft.Damage\n",
    "plt.bar(x=Destroyed['Make_model'],height=Destroyed['Aircraft.damage.Count'],color ='red')\n",
    "plt.xticks(rotation =45)\n",
    "plt.title('Plot of destroyed Aircraft.Damage');\n",
    "# Plot Substantial Aircraft.Damage\n",
    "plt.figure(figsize=(10,8))\n",
    "plt.bar(x=Substantial['Make_model'],height=Substantial['Aircraft.damage.Count'])\n",
    "plt.xticks(rotation =45)\n",
    "plt.title('Plot of substantial Aircraft.Damage');\n",
    "# Plot Minor Aircraft.Damage\n",
    "plt.figure(figsize=(10,8))\n",
    "plt.bar(x=Minor['Make_model'],height=Minor['Aircraft.damage.Count'],color ='green')\n",
    "plt.xticks(rotation =45)\n",
    "plt.title('Plot of Minor Aircraft.Damage');"
   ]
  },
  {
   "cell_type": "code",
   "execution_count": 50,
   "metadata": {},
   "outputs": [
    {
     "name": "stderr",
     "output_type": "stream",
     "text": [
      "<ipython-input-50-2276cb27bd9a>:53: SettingWithCopyWarning: \n",
      "A value is trying to be set on a copy of a slice from a DataFrame\n",
      "\n",
      "See the caveats in the documentation: https://pandas.pydata.org/pandas-docs/stable/user_guide/indexing.html#returning-a-view-versus-a-copy\n",
      "  Cesna_model.dropna(subset=['Number.of.Engines'],inplace=True)\n"
     ]
    },
    {
     "data": {
      "image/png": "[encoded data removed]",
      "text/plain": [
       "<Figure size 720x576 with 1 Axes>"
      ]
     },
     "metadata": {},
     "output_type": "display_data"
    }
   ],
   "source": [
    "# Investigating the cessna plane model\n",
    "\n",
    "#Check for missing data\n",
    "Aviation_clean['Make_model'].isna().sum()\n",
    "\n",
    "# Remove missing data by the make model\n",
    "Aviation_clean.dropna(subset=['Make_model'],inplace=True)\n",
    "\n",
    "Cesna_model =Aviation_clean[Aviation_clean['Make_model'].str.contains('Cessna')]\n",
    "\n",
    "# Look at the different number of engines in relation to the accidents\n",
    "Cesna_model['Number.of.Engines'].value_counts().sort_values(ascending=False)\n",
    "\n",
    "# Investigating the cessna plane model\n",
    "\n",
    "#Check for missing data\n",
    "Aviation_clean['Make_model'].isna().sum()\n",
    "\n",
    "# Remove missing data by the make model\n",
    "Aviation_clean.dropna(subset=['Make_model'],inplace=True)\n",
    "\n",
    "Cesna_model =Aviation_clean[Aviation_clean['Make_model'].str.contains('Cessna')]\n",
    "\n",
    "# Look at the different number of engines in relation to the accidents\n",
    "Cesna_model['Number.of.Engines'].value_counts().sort_values(ascending=False)\n",
    "\n",
    "#\n",
    "\n",
    "\n",
    "# Investigating the cessna plane model\n",
    "\n",
    "#Check for missing data\n",
    "Aviation_clean['Make_model'].isna().sum()\n",
    "\n",
    "# Remove missing data by the make model\n",
    "Aviation_clean.dropna(subset=['Make_model'],inplace=True)\n",
    "\n",
    "Cesna_model =Aviation_clean[Aviation_clean['Make_model'].str.contains('Cessna')]\n",
    "\n",
    "# Look at the different number of engines in relation to the accidents\n",
    "Cesna_model['Number.of.Engines'].value_counts().sort_values(ascending=False)\n",
    "\n",
    "#1.0    16186\n",
    "# 2.0     1492\n",
    "# 0.0       10\n",
    "# 4.0        2\n",
    "# Name: Number.of.Engines, dtype: int64\n",
    "\n",
    "# Why do we have planes with no engine?\n",
    "Cesna_model[Cesna_model['Number.of.Engines']==0]['Aircraft.Category']\n",
    "\n",
    "# seems like this planes with no engine's lack the Aircraft category thus we can remove them from the data\n",
    "Cesna_model.dropna(subset=['Number.of.Engines'],inplace=True)\n",
    "\n",
    "Plot_data =Cesna_model['Number.of.Engines'].value_counts().sort_values(ascending=False)\n",
    "Bar_plot(Plot_data,'Number.of.Engines for Cessna Models')\n",
    "\n",
    "# The number of engine in relation to the number of accidents do have significant difference with most\n",
    "# Accidents occuring for one engines plane but decrease with increase in  \n"
   ]
  },
  {
   "cell_type": "code",
   "execution_count": 51,
   "metadata": {},
   "outputs": [],
   "source": [
    "# Export the cleaned data to be used for tableu visualization\n",
    "Aviation_clean.to_csv('Cleaned_Aviation_Data.csv',index=False)"
   ]
  },
  {
   "cell_type": "code",
   "execution_count": null,
   "metadata": {},
   "outputs": [],
   "source": []
  }
 ],
 "metadata": {
  "kernelspec": {
   "display_name": "learn-env",
   "language": "python",
   "name": "python3"
  },
  "language_info": {
   "codemirror_mode": {
    "name": "ipython",
    "version": 3
   },
   "file_extension": ".py",
   "mimetype": "text/x-python",
   "name": "python",
   "nbconvert_exporter": "python",
   "pygments_lexer": "ipython3",
   "version": "3.8.5"
  }
 },
 "nbformat": 4,
 "nbformat_minor": 2
}
